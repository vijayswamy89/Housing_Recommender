{
 "cells": [
  {
   "cell_type": "code",
   "execution_count": 1,
   "metadata": {},
   "outputs": [],
   "source": [
    "#!{sys.executable} -m pip install python-craigslist"
   ]
  },
  {
   "cell_type": "code",
   "execution_count": 2,
   "metadata": {},
   "outputs": [],
   "source": [
    "import sys\n",
    "#!{sys.executable} -m pip install python-craigslist\n",
    "#!{sys.executable} -m pip install python-crontab"
   ]
  },
  {
   "cell_type": "code",
   "execution_count": 3,
   "metadata": {},
   "outputs": [],
   "source": [
    "from craigslist import CraigslistHousing\n",
    "from math import radians, cos, sin, asin, sqrt\n",
    "import pandas as pd\n",
    "import csv\n",
    "import numpy as np\n",
    "import argparse\n",
    "import json\n",
    "import pprint\n",
    "import requests\n",
    "import sys\n",
    "import urllib\n",
    "from crontab import CronTab"
   ]
  },
  {
   "cell_type": "code",
   "execution_count": 4,
   "metadata": {},
   "outputs": [],
   "source": [
    "from urllib.error import HTTPError\n",
    "from urllib.parse import quote\n",
    "from urllib.parse import urlencode"
   ]
  },
  {
   "cell_type": "code",
   "execution_count": 5,
   "metadata": {},
   "outputs": [],
   "source": [
    "API_KEY= '3nU3phN37fdNEA15I_fXlqa_E_zGaHQlaKho1jMgpKWxShPokBFLiSSHes_GTPYMr93WFF-hpFvVThpoFkSTHBKXUxrSADaHBqeePHflHk-fRWlUa-NleO-pxOWoW3Yx' \n",
    "API_HOST = 'https://api.yelp.com'\n",
    "SEARCH_PATH = '/v3/businesses/search'\n",
    "BUSINESS_PATH = '/v3/businesses/'  # Business ID will come after slash.\n",
    "\n",
    "\n",
    "# Defaults for our simple example.\n",
    "DEFAULT_TERM = 'dinner'\n",
    "DEFAULT_LOCATION = 'San Francisco, CA'\n",
    "SEARCH_LIMIT = 3"
   ]
  },
  {
   "cell_type": "code",
   "execution_count": 6,
   "metadata": {},
   "outputs": [],
   "source": [
    "app_id = 'oZHdFiJCLnokObkQ0RPJpw'\n",
    "app_secret = API_KEY"
   ]
  },
  {
   "cell_type": "code",
   "execution_count": 8,
   "metadata": {},
   "outputs": [],
   "source": [
    "def request(host, path, api_key, url_params=None):\n",
    "    \"\"\"Given your API_KEY, send a GET request to the API.\n",
    "    Args:\n",
    "        host (str): The domain host of the API.\n",
    "        path (str): The path of the API after the domain.\n",
    "        API_KEY (str): Your API Key.\n",
    "        url_params (dict): An optional set of query parameters in the request.\n",
    "    Returns:\n",
    "        dict: The JSON response from the request.\n",
    "    Raises:\n",
    "        HTTPError: An error occurs from the HTTP request.\n",
    "    \"\"\"\n",
    "    url_params = url_params or {}\n",
    "    url = '{0}{1}'.format(host, quote(path.encode('utf8')))\n",
    "    headers = {\n",
    "        'Authorization': 'Bearer %s' % api_key,\n",
    "    }\n",
    "\n",
    "    #print(u'Querying {0} ...'.format(url))\n",
    "\n",
    "    response = requests.request('GET', url, headers=headers, params=url_params)\n",
    "\n",
    "    return response.json()"
   ]
  },
  {
   "cell_type": "code",
   "execution_count": 9,
   "metadata": {},
   "outputs": [],
   "source": [
    "def search(api_key, category, latitude, longitude):\n",
    "    \"\"\"Query the Search API by a search term and location.\n",
    "    Args:\n",
    "        term (str): The search term passed to the API.\n",
    "        location (str): The search location passed to the API.\n",
    "    Returns:\n",
    "        dict: The JSON response from the request.\n",
    "    \"\"\"\n",
    "\n",
    "    url_params = {\n",
    "        'latitude': latitude,\n",
    "        'longitude': longitude,\n",
    "        'limit': SEARCH_LIMIT,\n",
    "        'categories': category,\n",
    "        'radius': 800,\n",
    "        'price':[1,2]\n",
    "    }\n",
    "    return request(API_HOST, SEARCH_PATH, api_key, url_params=url_params)\n"
   ]
  },
  {
   "cell_type": "code",
   "execution_count": 10,
   "metadata": {},
   "outputs": [],
   "source": [
    "def get_business(api_key, business_id):\n",
    "    \"\"\"Query the Business API by a business ID.\n",
    "    Args:\n",
    "        business_id (str): The ID of the business to query.\n",
    "    Returns:\n",
    "        dict: The JSON response from the request.\n",
    "    \"\"\"\n",
    "    business_path = BUSINESS_PATH + business_id\n",
    "\n",
    "    return request(API_HOST, business_path, api_key)\n"
   ]
  },
  {
   "cell_type": "code",
   "execution_count": 11,
   "metadata": {},
   "outputs": [],
   "source": [
    "def query_api(term, location):\n",
    "    \"\"\"Queries the API by the input values from the user.\n",
    "    Args:\n",
    "        term (str): The search term to query.\n",
    "        location (str): The location of the business to query.\n",
    "    \"\"\"\n",
    "    response = search(API_KEY, term, location)\n",
    "\n",
    "    businesses = response.get('businesses')\n",
    "\n",
    "    if not businesses:\n",
    "        print(u'No businesses for {0} in {1} found.'.format(term, location))\n",
    "        return\n",
    "\n",
    "    business_id = businesses[0]['id']\n",
    "\n",
    "#     print(u'{0} businesses found, querying business info ' \\\n",
    "#         'for the top result \"{1}\" ...'.format(\n",
    "#             len(businesses), business_id))\n",
    "    response = get_business(API_KEY, business_id)\n",
    "\n",
    "#     print(u'Result for business \"{0}\" found:'.format(business_id))\n",
    "    pprint.pprint(response, indent=2)"
   ]
  },
  {
   "cell_type": "code",
   "execution_count": 12,
   "metadata": {},
   "outputs": [],
   "source": [
    "cl = CraigslistHousing(site='newyork', category='aap',\n",
    "                         filters={'max_price': 9000, 'min_price': 1000})"
   ]
  },
  {
   "cell_type": "code",
   "execution_count": 13,
   "metadata": {},
   "outputs": [],
   "source": [
    "results = cl.get_results(sort_by='newest', geotagged=True, limit=10)\n",
    "results = [result for result in results]"
   ]
  },
  {
   "cell_type": "code",
   "execution_count": 14,
   "metadata": {},
   "outputs": [],
   "source": [
    "express_trains = {\n",
    "    \"72nd Street\":(40.76871175277928,-73.95845890045166),\n",
    "    \"96th Street\":(40.794220933640126,-73.97214889526367),\n",
    "    \"Rockefeller Center\":(40.7586678722452,-73.98133277893066),\n",
    "    \"W 4th St\":(40.7342315,-73.99880200000001),\n",
    "    \"125th St\": (40.811568076586966,-73.95206451416016),\n",
    "    \"Canal St\":(40.7182002,-73.99357359999999),\n",
    "    \"Grand St\":(40.7182002,-73.99357359999999),\n",
    "    \"34th St\":(40.750568,-73.99351899999999),\n",
    "    \"14th St\":(40.7355816,-73.99219579999999),\n",
    "    \"Times Square\": (40.7560445,-73.98778329999999),\n",
    "    \"Chambers Street\": (40.76871175277928,-73.95845890045166),\n",
    "    \"57th Street\": (37.790588199999995,-122.40038539999998)\n",
    "}"
   ]
  },
  {
   "cell_type": "code",
   "execution_count": 15,
   "metadata": {},
   "outputs": [],
   "source": [
    "def haversine(lon1, lat1, lon2, lat2):\n",
    "    \"\"\"\n",
    "    Calculate the great circle distance between two points \n",
    "    on the earth (specified in decimal degrees)\n",
    "    \"\"\"\n",
    "    # convert decimal degrees to radians \n",
    "    lon1, lat1, lon2, lat2 = map(radians, [lon1, lat1, lon2, lat2])\n",
    "\n",
    "    # haversine formula \n",
    "    dlon = lon2 - lon1 \n",
    "    dlat = lat2 - lat1 \n",
    "    a = sin(dlat/2)**2 + cos(lat1) * cos(lat2) * sin(dlon/2)**2\n",
    "    c = 2 * asin(sqrt(a)) \n",
    "    r = 6371 # Radius of earth in kilometers. Use 3956 for miles\n",
    "    return c * r"
   ]
  },
  {
   "cell_type": "code",
   "execution_count": 16,
   "metadata": {},
   "outputs": [],
   "source": [
    "geocode = [result[\"geotag\"] for result in results]\n",
    " "
   ]
  },
  {
   "cell_type": "code",
   "execution_count": 17,
   "metadata": {},
   "outputs": [],
   "source": [
    "areas = []\n",
    "for result in results:\n",
    "    if result[\"area\"] != None:\n",
    "        areas.append(result[\"area\"])\n",
    "    else:\n",
    "        areas.append(242)"
   ]
  },
  {
   "cell_type": "code",
   "execution_count": 18,
   "metadata": {},
   "outputs": [],
   "source": [
    "bedrooms = []\n",
    "for result in results:\n",
    "    if result[\"bedrooms\"] != None:\n",
    "        bedrooms.append(result[\"bedrooms\"])\n",
    "    else:\n",
    "        bedrooms.append(0)"
   ]
  },
  {
   "cell_type": "code",
   "execution_count": 19,
   "metadata": {},
   "outputs": [],
   "source": [
    "latitudes = []\n",
    "longitudes = []\n",
    "for geo in geocode:\n",
    "    if geo != None:\n",
    "        latitudes.append(geo[0])\n",
    "        longitudes.append(geo[1])\n",
    "    else:\n",
    "        latitudes.append(0)\n",
    "        longitudes.append(0)"
   ]
  },
  {
   "cell_type": "code",
   "execution_count": 20,
   "metadata": {},
   "outputs": [],
   "source": [
    "near_train_results = []\n",
    "near_pizza = []\n",
    "near_bagels = []\n",
    "near_convenience_store = []\n",
    "near_cocktail_bars = []\n",
    "near_food_trucks = []\n",
    "\n",
    "for lat, long in zip(latitudes, longitudes):\n",
    "    near_train = False\n",
    "    for express_train in express_trains:\n",
    "        if haversine(long, lat, express_trains[express_train][1], express_trains[express_train][0]) < 1:\n",
    "            near_train = True\n",
    "    if near_train == True:\n",
    "        near_train_results.append(1)\n",
    "    else:\n",
    "        near_train_results.append(0)\n",
    "    near_pizza.append(len(search(API_KEY, \"pizza\", lat, long)))\n",
    "    near_bagels.append(len(search(API_KEY, \"bagels\", lat, long)))\n",
    "    near_convenience_store.append(len(search(API_KEY, \"convenience\", lat, long)))\n",
    "    near_cocktail_bars.append(len(search(API_KEY, \"cocktailbars\", lat, long)))\n",
    "    near_food_trucks.append(len(search(API_KEY, \"foodtrucks\", lat, long)))"
   ]
  },
  {
   "cell_type": "code",
   "execution_count": 22,
   "metadata": {},
   "outputs": [],
   "source": [
    "df = pd.DataFrame(results)"
   ]
  },
  {
   "cell_type": "code",
   "execution_count": 23,
   "metadata": {},
   "outputs": [],
   "source": [
    "df[\"Latitude\"] = latitudes"
   ]
  },
  {
   "cell_type": "code",
   "execution_count": 24,
   "metadata": {},
   "outputs": [],
   "source": [
    "df[\"Longitude\"] = longitudes"
   ]
  },
  {
   "cell_type": "code",
   "execution_count": 25,
   "metadata": {},
   "outputs": [],
   "source": [
    "df[\"area\"] = areas"
   ]
  },
  {
   "cell_type": "code",
   "execution_count": 26,
   "metadata": {},
   "outputs": [],
   "source": [
    "df[\"bedrooms\"] = bedrooms"
   ]
  },
  {
   "cell_type": "code",
   "execution_count": 27,
   "metadata": {},
   "outputs": [],
   "source": [
    "df[\"Near_Express_Train\"] = near_train_results"
   ]
  },
  {
   "cell_type": "code",
   "execution_count": 28,
   "metadata": {},
   "outputs": [],
   "source": [
    "df[\"near_pizza\"] = near_pizza\n",
    "df[\"near_bagels\"] = near_bagels\n",
    "df[\"near_convenience_store\"] = near_convenience_store\n",
    "df[\"near_cocktail_bars\"] = near_cocktail_bars\n",
    "df[\"near_food_trucks\"] = near_food_trucks"
   ]
  },
  {
   "cell_type": "markdown",
   "metadata": {},
   "source": [
    "Convert housing prices into a numerical set of values."
   ]
  },
  {
   "cell_type": "code",
   "execution_count": 29,
   "metadata": {},
   "outputs": [],
   "source": [
    "df[\"price\"] = df[\"price\"].apply(lambda x: x.replace('$','')).apply(lambda x: x.replace(',','')).astype(float)"
   ]
  },
  {
   "cell_type": "code",
   "execution_count": 30,
   "metadata": {},
   "outputs": [],
   "source": [
    "df[\"area\"] = df[\"area\"].astype(str)"
   ]
  },
  {
   "cell_type": "code",
   "execution_count": 31,
   "metadata": {},
   "outputs": [],
   "source": [
    "df[\"Interested\"] = np.where((df[\"price\"] > 1000) & (df[\"price\"] < 2000) & (df[\"Near_Express_Train\"] == 1),1,0)\n",
    "\n"
   ]
  },
  {
   "cell_type": "code",
   "execution_count": 32,
   "metadata": {},
   "outputs": [],
   "source": [
    "df[\"area\"] = df[\"area\"].apply(lambda x: x.replace('ft2','')).astype(float)"
   ]
  },
  {
   "cell_type": "code",
   "execution_count": 138,
   "metadata": {},
   "outputs": [],
   "source": [
    "# with open('housing.csv', 'wb') as csvfile:\n",
    "#     writer = csv.writer(csvfile, delimiter=' ',\n",
    "#                             quotechar='|', quoting=csv.QUOTE_MINIMAL)"
   ]
  },
  {
   "cell_type": "code",
   "execution_count": 139,
   "metadata": {},
   "outputs": [],
   "source": [
    "# df.to_csv('housing.csv')"
   ]
  },
  {
   "cell_type": "code",
   "execution_count": 140,
   "metadata": {},
   "outputs": [],
   "source": [
    "with open('housing.csv', 'a') as f:\n",
    "    df.to_csv(f, header=False)"
   ]
  },
  {
   "cell_type": "code",
   "execution_count": null,
   "metadata": {},
   "outputs": [],
   "source": []
  }
 ],
 "metadata": {
  "kernelspec": {
   "display_name": "Python [conda env:dsi]",
   "language": "python",
   "name": "conda-env-dsi-py"
  },
  "language_info": {
   "codemirror_mode": {
    "name": "ipython",
    "version": 3
   },
   "file_extension": ".py",
   "mimetype": "text/x-python",
   "name": "python",
   "nbconvert_exporter": "python",
   "pygments_lexer": "ipython3",
   "version": "3.6.5"
  }
 },
 "nbformat": 4,
 "nbformat_minor": 2
}
